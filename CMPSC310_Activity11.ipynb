{
  "nbformat": 4,
  "nbformat_minor": 0,
  "metadata": {
    "colab": {
      "provenance": [],
      "authorship_tag": "ABX9TyPTeSxyLJhzNaYTUmMKIHCf",
      "include_colab_link": true
    },
    "kernelspec": {
      "name": "python3",
      "display_name": "Python 3"
    },
    "language_info": {
      "name": "python"
    }
  },
  "cells": [
    {
      "cell_type": "markdown",
      "metadata": {
        "id": "view-in-github",
        "colab_type": "text"
      },
      "source": [
        "<a href=\"https://colab.research.google.com/github/CMPSC-310-AI-Spring2023/activity11_distributions_bayes/blob/main/CMPSC310_Activity11.ipynb\" target=\"_parent\"><img src=\"https://colab.research.google.com/assets/colab-badge.svg\" alt=\"Open In Colab\"/></a>"
      ]
    },
    {
      "cell_type": "markdown",
      "source": [
        "# **Activity 11: Distributions and Bayes Algorithm **\n"
      ],
      "metadata": {
        "id": "vcrrIOhGjS0Z"
      }
    },
    {
      "cell_type": "markdown",
      "source": [
        "## Binomial Distribution\n",
        "\n",
        "TODO: Add observations"
      ],
      "metadata": {
        "id": "17Be7mcYIcNk"
      }
    },
    {
      "cell_type": "code",
      "source": [
        "import numpy as np\n",
        "\n",
        "n=100 # number of trials\n",
        "p=0.5 # probability of success\n",
        "s=100 # size\n",
        "binomial = np.random.binomial(n,p,s)\n",
        "print(binomial)\n",
        "\n",
        "import matplotlib.pyplot as plt\n",
        "\n",
        "plt.axis([0, 100, 0, 100])\n",
        "plt.plot(binomial,linewidth=2, color='r')\n",
        "plt.show()"
      ],
      "metadata": {
        "id": "mySMxGBmN0pv"
      },
      "execution_count": null,
      "outputs": []
    },
    {
      "cell_type": "markdown",
      "source": [
        "## Uniform Distribution\n",
        "\n",
        "TODO: Add observations"
      ],
      "metadata": {
        "id": "j_CGIIhoInHn"
      }
    },
    {
      "cell_type": "code",
      "source": [
        "import numpy as np\n",
        "\n",
        "uniform = np.random.uniform(low=1, high=10,size=100)\n",
        "print(uniform)\n",
        "\n",
        "import matplotlib.pyplot as plt\n",
        "\n",
        "plt.axis([0, 100, 0, 10])\n",
        "plt.plot(uniform,linewidth=2, color='r')\n",
        "plt.show()"
      ],
      "metadata": {
        "id": "aCG1cMEacwtp"
      },
      "execution_count": null,
      "outputs": []
    },
    {
      "cell_type": "markdown",
      "source": [
        "## Normal Distribution\n",
        "\n",
        "TODO: Add observations"
      ],
      "metadata": {
        "id": "p_BKTflFIpiB"
      }
    },
    {
      "cell_type": "code",
      "source": [
        "import numpy as np\n",
        "mu, sigma = 0, 0.1 # mean and standard deviation\n",
        "normal = np.random.normal(mu, sigma, 100)\n",
        "\n",
        "import matplotlib.pyplot as plt\n",
        "\n",
        "plt.axis([0, 100, 0, 1])\n",
        "plt.plot(normal,linewidth=2, color='r')\n",
        "plt.show()\n"
      ],
      "metadata": {
        "id": "sDe-nDVfR2G6"
      },
      "execution_count": null,
      "outputs": []
    },
    {
      "cell_type": "markdown",
      "source": [
        "## Bayes Algorithm\n",
        "\n",
        "TODO: Add experimentation\n",
        "\n",
        "Ref: https://scikit-learn.org/stable/modules/naive_bayes.html"
      ],
      "metadata": {
        "id": "JXg4ilpxPmON"
      }
    },
    {
      "cell_type": "code",
      "source": [
        "from sklearn.datasets import load_iris\n",
        "from sklearn.model_selection import train_test_split\n",
        "from sklearn.naive_bayes import GaussianNB # Gaussian is normal distribution\n",
        "X, y = load_iris(return_X_y=True) # https://scikit-learn.org/stable/modules/generated/sklearn.datasets.load_iris.html\n",
        "X_train, X_test, y_train, y_test = train_test_split(X, y, test_size=0.5, random_state=0)\n",
        "gnb = GaussianNB()\n",
        "gnb.fit(X_train, y_train)\n",
        "y_pred = gnb.predict(X_test)\n",
        "print(\"Number of mislabeled points out of a total %d points : %d\" % (X_test.shape[0], (y_test != y_pred).sum()))"
      ],
      "metadata": {
        "id": "BO57x41_aE-u"
      },
      "execution_count": null,
      "outputs": []
    }
  ]
}